{
 "cells": [
  {
   "cell_type": "code",
   "execution_count": 1,
   "metadata": {},
   "outputs": [],
   "source": [
    "import os\n",
    "import numpy as np\n",
    "from PIL import Image"
   ]
  },
  {
   "cell_type": "code",
   "execution_count": 2,
   "metadata": {},
   "outputs": [
    {
     "name": "stdout",
     "output_type": "stream",
     "text": [
      "Image size:  (1280, 853)\n",
      "Image mode:  L\n",
      "Image size:  (800, 1072)\n",
      "Image mode:  L\n"
     ]
    }
   ],
   "source": [
    "input_image_1 = Image.open(\"images/cat_2.jpg\").convert(\"L\")\n",
    "input_image_2 = Image.open(\"images/tesla_8_bit.png\").convert(\"L\")\n",
    "\n",
    "np_image_1 = np.array(input_image_1)\n",
    "np_image_2 = np.array(input_image_2)\n",
    "\n",
    "print(\"Image size: \", input_image_1.size)\n",
    "print(\"Image mode: \", input_image_1.mode)\n",
    "\n",
    "print(\"Image size: \", input_image_2.size)\n",
    "print(\"Image mode: \", input_image_2.mode)"
   ]
  },
  {
   "cell_type": "code",
   "execution_count": 3,
   "metadata": {},
   "outputs": [],
   "source": [
    "def add_gaussian_noise(np_image, mean=0, std=25):\n",
    "    noise = np.random.normal(mean, std, np_image.shape)\n",
    "    noisy_image = np_image + noise\n",
    "    noisy_image = np.clip(noisy_image, 0, 255).astype(np.uint8)\n",
    "    pil_image = Image.fromarray(noisy_image)\n",
    "    noise_variance = np.var(noise)\n",
    "    return pil_image, noise_variance"
   ]
  },
  {
   "cell_type": "code",
   "execution_count": 4,
   "metadata": {},
   "outputs": [],
   "source": [
    "def generate_noisy_images(np_image, num_images, output_dir):\n",
    "    if not os.path.exists(output_dir):\n",
    "        os.makedirs(output_dir)\n",
    "    variances = []\n",
    "    for i in range(num_images):\n",
    "        noisy_image, noise_variance = add_gaussian_noise(np_image)\n",
    "        noisy_image.save(f\"{output_dir}/noisy_image_{i}.png\")\n",
    "        variances.append(noise_variance)\n",
    "\n",
    "    return variances"
   ]
  },
  {
   "cell_type": "code",
   "execution_count": 5,
   "metadata": {},
   "outputs": [],
   "source": [
    "def create_average_images(output_dir, image_count_list):\n",
    "    all_images = [\n",
    "        np.array(Image.open(os.path.join(output_dir, f\"noisy_image_{i+1}.png\")), dtype=np.float32)\n",
    "        for i in range(max(image_count_list))\n",
    "    ]\n",
    "    \n",
    "    average_images = []\n",
    "    for count in image_count_list:\n",
    "        avg_image = np.mean(all_images[:count], axis=0)\n",
    "        average_images.append(Image.fromarray(np.clip(avg_image, 0, 255).astype(np.uint8)))\n",
    "    return average_images"
   ]
  },
  {
   "cell_type": "code",
   "execution_count": 6,
   "metadata": {},
   "outputs": [],
   "source": [
    "def calculate_psnr(original_image, noisy_image):\n",
    "    mse = np.mean((original_image - noisy_image) ** 2)\n",
    "    psnr = 10 * np.log10(255**2 / mse)\n",
    "    return psnr"
   ]
  },
  {
   "cell_type": "code",
   "execution_count": 7,
   "metadata": {},
   "outputs": [],
   "source": [
    "variances_cat = generate_noisy_images(np_image_1, 1000, \"outputs/cat\")\n",
    "variances_tesla = generate_noisy_images(np_image_2, 1000, \"outputs/tesla\")\n",
    "\n",
    "#save variances in txt file\n",
    "with open(\"outputs/cat/variances.txt\", \"w\") as f:\n",
    "    for variance in variances_cat:\n",
    "        f.write(f\"{variance}\\n\")\n",
    "\n",
    "with open(\"outputs/tesla/variances.txt\", \"w\") as f:\n",
    "    for variance in variances_tesla:\n",
    "        f.write(f\"{variance}\\n\")"
   ]
  },
  {
   "cell_type": "code",
   "execution_count": 8,
   "metadata": {},
   "outputs": [
    {
     "name": "stdout",
     "output_type": "stream",
     "text": [
      "PSNR for cat image:  [np.float64(31.08771474852093), np.float64(39.16289680669918), np.float64(44.19939942213951)]\n",
      "PSNR for tesla image:  [np.float64(31.098169312878316), np.float64(38.74673074891382), np.float64(42.833900569860646)]\n"
     ]
    }
   ],
   "source": [
    "\n",
    "image_count_list = [9, 99, 999]\n",
    "average_images_cat = create_average_images(\"outputs/cat\", image_count_list)\n",
    "average_images_tesla = create_average_images(\"outputs/tesla\", image_count_list)\n",
    "\n",
    "for i, avg_image in enumerate(average_images_cat):\n",
    "    avg_image.save(f\"outputs/cat/average_image_{image_count_list[i]}.png\")\n",
    "\n",
    "for i, avg_image in enumerate(average_images_tesla):\n",
    "    avg_image.save(f\"outputs/tesla/average_image_{image_count_list[i]}.png\")\n",
    "\n",
    "psnr_cat = [calculate_psnr(np_image_1, np.array(avg_image)) for avg_image in average_images_cat]\n",
    "psnr_tesla = [calculate_psnr(np_image_2, np.array(avg_image)) for avg_image in average_images_tesla]\n",
    "\n",
    "print(\"PSNR for cat image: \", psnr_cat)\n",
    "print(\"PSNR for tesla image: \", psnr_tesla)"
   ]
  }
 ],
 "metadata": {
  "kernelspec": {
   "display_name": "Python 3",
   "language": "python",
   "name": "python3"
  },
  "language_info": {
   "codemirror_mode": {
    "name": "ipython",
    "version": 3
   },
   "file_extension": ".py",
   "mimetype": "text/x-python",
   "name": "python",
   "nbconvert_exporter": "python",
   "pygments_lexer": "ipython3",
   "version": "3.12.7"
  }
 },
 "nbformat": 4,
 "nbformat_minor": 2
}
